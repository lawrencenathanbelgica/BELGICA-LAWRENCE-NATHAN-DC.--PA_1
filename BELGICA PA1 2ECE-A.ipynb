{
 "cells": [
  {
   "cell_type": "markdown",
   "id": "5a3c2be5-d236-400e-8d4e-9a4268d7faf6",
   "metadata": {},
   "source": [
    "Alphabet Soup Problem: "
   ]
  },
  {
   "cell_type": "code",
   "execution_count": 48,
   "id": "b8d2635b-e8e2-498e-8c78-48aca07f568d",
   "metadata": {},
   "outputs": [
    {
     "name": "stdin",
     "output_type": "stream",
     "text": [
      "Enter a word:  thequickbrownfoxjumpsoverthelazydog\n"
     ]
    },
    {
     "name": "stdout",
     "output_type": "stream",
     "text": [
      "  abcdeeefghhijklmnoooopqrrsttuuvwxyz\n"
     ]
    }
   ],
   "source": [
    "#Ask the user for input\n",
    "word = input (\"Enter a word: \")\n",
    "\n",
    "#Alphabetize the letter\n",
    "\n",
    "sorted_word = ''.join(sorted(word))\n",
    "sorted_word\n",
    "\n",
    "print (\" \" , sorted_word)"
   ]
  },
  {
   "cell_type": "markdown",
   "id": "c893a0c6-22da-42e1-b3f5-498ceddbe62f",
   "metadata": {},
   "source": [
    "Emoticon Problem: Create a function that changes specific words into emoticons."
   ]
  },
  {
   "cell_type": "code",
   "execution_count": 50,
   "id": "5afa9d67-c0d3-4369-84f9-1cb850ef3169",
   "metadata": {},
   "outputs": [
    {
     "name": "stdin",
     "output_type": "stream",
     "text": [
      "Enter a phrase or sentence:  Last night I was feeling mad, but this morning I got really sad.\n"
     ]
    },
    {
     "name": "stdout",
     "output_type": "stream",
     "text": [
      "Last night I was feeling >:(, but this morning I got really :((.\n"
     ]
    }
   ],
   "source": [
    "def emotify (phrase):\n",
    "    #dictionary definition of words equivalent to emojis\n",
    "    emoticons = {\"smile\" : \":)\", \"grin\" : \":D\", \"sad\" : \":((\", \"mad\" : \">:(\" }\n",
    "\n",
    "    #loop dictionary and replaces words in phrases or sentences\n",
    "    for word, symbol in emoticons.items():\n",
    "        phrase = phrase.replace(word, symbol)\n",
    "    return phrase\n",
    "\n",
    "#input the sentence that will be typed by the user\n",
    "phrase = input(\"Enter a phrase or sentence: \")\n",
    "print (emotify(phrase))"
   ]
  },
  {
   "cell_type": "markdown",
   "id": "f5177d31-e108-4451-b91a-c95d1bd925be",
   "metadata": {},
   "source": [
    "Unpacking List Problem: Unpack the list into three variables, being first,\n",
    "middle, and last, with middle being everything in between the first and last element. Then print all three"
   ]
  },
  {
   "cell_type": "code",
   "execution_count": 51,
   "id": "f167dc58-eaa1-495f-b269-3f915bff433e",
   "metadata": {},
   "outputs": [
    {
     "name": "stdin",
     "output_type": "stream",
     "text": [
      "Enter numbers:  97458125\n"
     ]
    },
    {
     "name": "stdout",
     "output_type": "stream",
     "text": [
      "first: 9\n",
      "middle: [7, 4, 5, 8, 1, 2]\n",
      "last: 5\n"
     ]
    }
   ],
   "source": [
    "# Ask for user input\n",
    "user_input = input (\"Enter numbers: \")\n",
    "\n",
    "# If input has spaces, split normally, else split each character\n",
    "if \" \" in user_input:\n",
    "\n",
    "     # Convert input to a list of integers\n",
    "    lst = list(map(int, user_input.split()))\n",
    "else: \n",
    "    lst = list(map(int, user_input)) #this line of code takes each digit separately\n",
    "\n",
    "# lst[0] = first element\n",
    "# lst[1:-1] = all the elements except first and last\n",
    "# lst [-1] = the last element\n",
    "first, middle, last = lst[0], lst[1:-1], lst [-1] #indexing similar to arrays\n",
    "\n",
    "print (\"first:\", first)\n",
    "print (\"middle:\", middle)\n",
    "print (\"last:\", last)"
   ]
  }
 ],
 "metadata": {
  "kernelspec": {
   "display_name": "Python (myenv)",
   "language": "python",
   "name": "myenv"
  },
  "language_info": {
   "codemirror_mode": {
    "name": "ipython",
    "version": 3
   },
   "file_extension": ".py",
   "mimetype": "text/x-python",
   "name": "python",
   "nbconvert_exporter": "python",
   "pygments_lexer": "ipython3",
   "version": "3.10.18"
  }
 },
 "nbformat": 4,
 "nbformat_minor": 5
}
